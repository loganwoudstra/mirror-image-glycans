{
 "cells": [
  {
   "cell_type": "code",
   "execution_count": 1,
   "id": "65ad9ec0",
   "metadata": {},
   "outputs": [
    {
     "name": "stderr",
     "output_type": "stream",
     "text": [
      "c:\\Users\\Logan\\miniconda3\\envs\\glycan-summer-env\\Lib\\site-packages\\tqdm\\auto.py:21: TqdmWarning: IProgress not found. Please update jupyter and ipywidgets. See https://ipywidgets.readthedocs.io/en/stable/user_install.html\n",
      "  from .autonotebook import tqdm as notebook_tqdm\n"
     ]
    }
   ],
   "source": [
    "from esm.models.esmc import ESMC\n",
    "import pandas as pd\n",
    "from glycowork.ml.inference import get_lectin_preds, get_esmc_representations\n",
    "from glycowork.ml.models import prep_model\n",
    "import pandas as pd\n",
    "import matplotlib.pyplot as plt\n",
    "import numpy as np\n",
    "from matplotlib import colors\n",
    "from Bio import SeqIO"
   ]
  },
  {
   "cell_type": "code",
   "execution_count": 2,
   "id": "d954b92c",
   "metadata": {},
   "outputs": [
    {
     "name": "stderr",
     "output_type": "stream",
     "text": [
      "Fetching 4 files: 100%|██████████| 4/4 [00:00<00:00, 4025.24it/s]\n"
     ]
    },
    {
     "name": "stdout",
     "output_type": "stream",
     "text": [
      "Download completed.\n"
     ]
    }
   ],
   "source": [
    "esm_model = ESMC.from_pretrained(\"esmc_300m\")\n",
    "leor = prep_model(\"LectinOracle\", 1, trained = True)"
   ]
  },
  {
   "cell_type": "markdown",
   "id": "79e770e3",
   "metadata": {},
   "source": [
    "## Load Data"
   ]
  },
  {
   "cell_type": "code",
   "execution_count": null,
   "id": "e111eb8a",
   "metadata": {},
   "outputs": [],
   "source": [
    "glycan_df = pd.read_csv('data/Glycans-L-sugars-etc2.txt', sep='\\t')\n",
    "print(len(glycan_df))\n",
    "glycan_df.head()"
   ]
  },
  {
   "cell_type": "code",
   "execution_count": null,
   "id": "bc3582af",
   "metadata": {},
   "outputs": [],
   "source": [
    "left_glycan_df = glycan_df[glycan_df['Name'].str.startswith('L-')].reset_index(drop=True)\n",
    "print(len(left_glycan_df))\n",
    "left_glycan_df"
   ]
  },
  {
   "cell_type": "code",
   "execution_count": null,
   "id": "442bc3c0",
   "metadata": {},
   "outputs": [],
   "source": [
    "right_glycan_df = glycan_df[glycan_df['Name'].str.startswith('D-')].reset_index(drop=True)\n",
    "print(len(right_glycan_df))\n",
    "right_glycan_df"
   ]
  },
  {
   "cell_type": "code",
   "execution_count": null,
   "id": "4f81d2be",
   "metadata": {},
   "outputs": [],
   "source": [
    "large_glycan_df = glycan_df[~glycan_df['Name'].str.startswith(('L-', 'D-'))].reset_index(drop=True)\n",
    "print(len(large_glycan_df))\n",
    "large_glycan_df"
   ]
  },
  {
   "cell_type": "code",
   "execution_count": 3,
   "id": "10be2665",
   "metadata": {},
   "outputs": [],
   "source": [
    "def get_clean_iupacs(glycans):\n",
    "    clean_glycans = []\n",
    "    for glycan in glycans:\n",
    "        #remove spacer\n",
    "        if glycan.count('(') > glycan.count(')'):\n",
    "            spacer_pos = glycan.rfind('(')\n",
    "            glycan = glycan[:spacer_pos]\n",
    "        clean_glycans.append(glycan)\n",
    "    return clean_glycans"
   ]
  },
  {
   "cell_type": "code",
   "execution_count": null,
   "id": "8b8b7b20",
   "metadata": {},
   "outputs": [],
   "source": [
    "left_glycan_df[\"Clean IUPAC\"] = get_clean_iupacs(left_glycan_df[\"IUPAC\"])\n",
    "left_glycan_df"
   ]
  },
  {
   "cell_type": "code",
   "execution_count": null,
   "id": "88023402",
   "metadata": {},
   "outputs": [],
   "source": [
    "right_glycan_df[\"Clean IUPAC\"] = get_clean_iupacs(right_glycan_df[\"IUPAC\"])\n",
    "right_glycan_df"
   ]
  },
  {
   "cell_type": "code",
   "execution_count": null,
   "id": "411de30f",
   "metadata": {},
   "outputs": [],
   "source": [
    "large_glycan_df[\"Clean IUPAC\"] = get_clean_iupacs(large_glycan_df[\"IUPAC\"])\n",
    "large_glycan_df"
   ]
  },
  {
   "cell_type": "code",
   "execution_count": null,
   "id": "5c1ca717",
   "metadata": {},
   "outputs": [],
   "source": [
    "# list to collect parsed records\n",
    "records_list = []\n",
    "\n",
    "for record in SeqIO.parse(\"data/lectin-sequence-subset.fasta\", \"fasta\"):\n",
    "    header_parts = record.description.split(\" \")\n",
    "\n",
    "    uniprot_id = header_parts[0].split(\"|\")[1]\n",
    "    entry_name = header_parts[0].split(\"|\")[2]\n",
    "\n",
    "    # Get positions of OS= (organism species start)\n",
    "    try:\n",
    "        os_index = next(i for i, s in enumerate(header_parts) if s.startswith(\"OS=\"))\n",
    "    except StopIteration:\n",
    "        os_index = None\n",
    "\n",
    "    # Protein name is from after entry_name (index 0) up to OS=\n",
    "    protein_name = \" \".join(header_parts[1:os_index])\n",
    "\n",
    "    # Extract fields safely if present\n",
    "    os = next((part.split(\"=\")[1] for part in header_parts if part.startswith(\"OS=\")), None)\n",
    "    ox = next((part.split(\"=\")[1] for part in header_parts if part.startswith(\"OX=\")), None)\n",
    "    gn = next((part.split(\"=\")[1] for part in header_parts if part.startswith(\"GN=\")), None)\n",
    "    pe = next((part.split(\"=\")[1] for part in header_parts if part.startswith(\"PE=\")), None)\n",
    "    sv = next((part.split(\"=\")[1] for part in header_parts if part.startswith(\"SV=\")), None)\n",
    "\n",
    "    sequence = str(record.seq)\n",
    "\n",
    "    records_list.append({\n",
    "        \"Accession\": uniprot_id,\n",
    "        \"EntryName\": entry_name,\n",
    "        \"ProteinName\": protein_name,\n",
    "        \"Organism\": os,\n",
    "        \"TaxonomyID\": ox,\n",
    "        \"Gene\": gn,\n",
    "        \"ProteinExistence\": pe,\n",
    "        \"SequenceVersion\": sv,\n",
    "        \"Sequence\": sequence\n",
    "    })\n",
    "\n",
    "# Optional: convert to pandas DataFrame\n",
    "import pandas as pd\n",
    "protein_fasta = pd.DataFrame(records_list)\n",
    "\n",
    "print(len(protein_fasta))\n",
    "protein_fasta"
   ]
  },
  {
   "cell_type": "code",
   "execution_count": null,
   "id": "a204bda8",
   "metadata": {},
   "outputs": [],
   "source": [
    "protein_df = protein_fasta[[\"ProteinName\", \"Sequence\"]]\n",
    "protein_df = protein_df.rename(columns={\"ProteinName\": \"Name\"})\n",
    "protein_df"
   ]
  },
  {
   "cell_type": "code",
   "execution_count": null,
   "id": "0bb859c6",
   "metadata": {},
   "outputs": [],
   "source": [
    "# mapping from protein name in fasta file to the correct acronym\n",
    "protein_to_acronym = {\n",
    "    \"Lectin\": \"SBA\",\n",
    "    \"Agglutinin\": \"RCA\",\n",
    "    \"Fucose-specific lectin\": \"AAL\", \n",
    "    \"Anti-H(O) lectin 1\": \"UEA-I\",\n",
    "    \"Lectin (Fragment)\": \"ECL\", \n",
    "    \"Concanavalin-A\": \"ConA\",\n",
    "}"
   ]
  },
  {
   "cell_type": "code",
   "execution_count": null,
   "id": "a0ec67c3",
   "metadata": {},
   "outputs": [],
   "source": [
    "protein_df[\"Acronym\"] = [protein_to_acronym[protein] if protein in protein_to_acronym else protein for protein in protein_df[\"Name\"]]\n",
    "protein_df"
   ]
  },
  {
   "cell_type": "markdown",
   "id": "f061c4e6",
   "metadata": {},
   "source": [
    "## Prediction Functions"
   ]
  },
  {
   "cell_type": "code",
   "execution_count": 4,
   "id": "269ddd22",
   "metadata": {},
   "outputs": [],
   "source": [
    "def get_pred_df(protein_df, glycan_df):\n",
    "    leor_preds = {\"glycan\": [], \"protein\": [], \"rfu\": []}\n",
    "    for i, prot_row in protein_df.iterrows():\n",
    "        sequence = prot_row[\"Sequence\"]\n",
    "        protein = prot_row[\"Acronym\"]\n",
    "        rep = get_esmc_representations([sequence], esm_model)\n",
    "        preds = get_lectin_preds(sequence, glycan_df[\"Clean IUPAC\"], leor, rep, sort=False)\n",
    "        for j, pred_row in preds.iterrows():\n",
    "            glycan = glycan_df[\"Name\"][j]\n",
    "            rfu = pred_row[\"pred\"]\n",
    "\n",
    "            leor_preds[\"glycan\"].append(glycan)\n",
    "            leor_preds[\"protein\"].append(protein)\n",
    "            leor_preds[\"rfu\"].append(rfu)\n",
    "            \n",
    "    return pd.DataFrame(leor_preds)"
   ]
  },
  {
   "cell_type": "code",
   "execution_count": null,
   "id": "f71f15d8",
   "metadata": {},
   "outputs": [],
   "source": [
    "def plot_table(preds_df, file_name, title):\n",
    "    pivot_df = preds_df.pivot(index='glycan', columns='protein', values='rfu')\n",
    "\n",
    "    fig, ax = plt.subplots()\n",
    "    data = (pivot_df > 0).values.astype(int)\n",
    "\n",
    "    # Display heatmap\n",
    "    cmap = colors.ListedColormap(['red', 'green'])\n",
    "    cax = ax.imshow(data, cmap=cmap)\n",
    "\n",
    "    # Set ticks\n",
    "    ax.set_xticks(np.arange(len(pivot_df.columns)))\n",
    "    ax.set_yticks(np.arange(len(pivot_df.index)))\n",
    "\n",
    "    # Label ticks\n",
    "    ax.set_xticklabels(pivot_df.columns)\n",
    "    ax.set_yticklabels(pivot_df.index)\n",
    "\n",
    "    # Move x-axis labels to the top\n",
    "    ax.xaxis.set_ticks_position('top')\n",
    "    ax.xaxis.set_label_position('top')\n",
    "\n",
    "    # Rotate x-axis labels\n",
    "    plt.setp(ax.get_xticklabels(), rotation=90, ha='center', va='bottom')\n",
    "\n",
    "    # Add value labels inside cells\n",
    "    for i in range(data.shape[0]):\n",
    "        for j in range(data.shape[1]):\n",
    "            value = pivot_df.iloc[i, j]\n",
    "            ax.text(j, i, f'{value:.2f}', ha='center', va='center', color='white', fontsize=10)\n",
    "\n",
    "    plt.title(title, pad=20, fontweight='bold')   \n",
    "    plt.savefig(f'{file_name}.png', dpi=300, bbox_inches='tight')\n",
    "    plt.show()"
   ]
  },
  {
   "cell_type": "markdown",
   "id": "d5f26952",
   "metadata": {},
   "source": [
    "## Left-Handed Predictions"
   ]
  },
  {
   "cell_type": "code",
   "execution_count": null,
   "id": "2dbd01b4",
   "metadata": {},
   "outputs": [],
   "source": [
    "left_leor_preds_df = get_pred_df(protein_df, left_glycan_df)\n",
    "print(len(left_leor_preds_df))\n",
    "left_leor_preds_df.head()"
   ]
  },
  {
   "cell_type": "code",
   "execution_count": null,
   "id": "f027b23b",
   "metadata": {},
   "outputs": [],
   "source": [
    "left_pivot_df = left_leor_preds_df.pivot(index='glycan', columns='protein', values='rfu')\n",
    "left_pivot_df.to_csv(\"data/left_leor_preds.csv\")"
   ]
  },
  {
   "cell_type": "code",
   "execution_count": null,
   "id": "b4bc5c49",
   "metadata": {},
   "outputs": [],
   "source": [
    "plot_table(left_leor_preds_df, \"tables/lectinoracle_preds_lefthanded\", \"Left-Handed Glycans\")"
   ]
  },
  {
   "cell_type": "markdown",
   "id": "2338c617",
   "metadata": {},
   "source": [
    "## Right-Handed Predictions"
   ]
  },
  {
   "cell_type": "code",
   "execution_count": null,
   "id": "2f18b3be",
   "metadata": {},
   "outputs": [],
   "source": [
    "right_leor_preds_df = get_pred_df(protein_df, right_glycan_df)\n",
    "print(len(right_leor_preds_df))\n",
    "right_leor_preds_df.head()"
   ]
  },
  {
   "cell_type": "code",
   "execution_count": null,
   "id": "94685cd8",
   "metadata": {},
   "outputs": [],
   "source": [
    "right_pivot_df = right_leor_preds_df.pivot(index='glycan', columns='protein', values='rfu')\n",
    "right_pivot_df.to_csv(\"data/right_leor_preds.csv\")"
   ]
  },
  {
   "cell_type": "code",
   "execution_count": null,
   "id": "6520ac09",
   "metadata": {},
   "outputs": [],
   "source": [
    "plot_table(right_leor_preds_df, \"tables/lectinoracle_preds_righthanded\", \"Right-Handed Glycans\")"
   ]
  },
  {
   "cell_type": "markdown",
   "id": "bd910178",
   "metadata": {},
   "source": [
    "## Large Glycans"
   ]
  },
  {
   "cell_type": "code",
   "execution_count": null,
   "id": "31f68aa2",
   "metadata": {},
   "outputs": [],
   "source": [
    "large_leor_preds_df = get_pred_df(protein_df, large_glycan_df)\n",
    "print(len(large_leor_preds_df))\n",
    "large_leor_preds_df.head()"
   ]
  },
  {
   "cell_type": "code",
   "execution_count": null,
   "id": "d8299c17",
   "metadata": {},
   "outputs": [],
   "source": [
    "large_pivot_df = large_leor_preds_df.pivot(index='glycan', columns='protein', values='rfu')\n",
    "large_pivot_df.to_csv(\"data/large_leor_preds.csv\")"
   ]
  },
  {
   "cell_type": "code",
   "execution_count": null,
   "id": "cae41f5e",
   "metadata": {},
   "outputs": [],
   "source": [
    "plot_table(large_leor_preds_df, \"tables/lectinoracle_preds_large\", \"Large Glycans\")"
   ]
  },
  {
   "cell_type": "markdown",
   "id": "f781f780",
   "metadata": {},
   "source": [
    "## Full Dataset"
   ]
  },
  {
   "cell_type": "markdown",
   "id": "aae8729a",
   "metadata": {},
   "source": [
    "### Load Data"
   ]
  },
  {
   "cell_type": "code",
   "execution_count": 5,
   "id": "6b2a2acc",
   "metadata": {},
   "outputs": [
    {
     "name": "stdout",
     "output_type": "stream",
     "text": [
      "611\n"
     ]
    },
    {
     "data": {
      "text/html": [
       "<div>\n",
       "<style scoped>\n",
       "    .dataframe tbody tr th:only-of-type {\n",
       "        vertical-align: middle;\n",
       "    }\n",
       "\n",
       "    .dataframe tbody tr th {\n",
       "        vertical-align: top;\n",
       "    }\n",
       "\n",
       "    .dataframe thead th {\n",
       "        text-align: right;\n",
       "    }\n",
       "</style>\n",
       "<table border=\"1\" class=\"dataframe\">\n",
       "  <thead>\n",
       "    <tr style=\"text-align: right;\">\n",
       "      <th></th>\n",
       "      <th>Name</th>\n",
       "      <th>IUPAC</th>\n",
       "    </tr>\n",
       "  </thead>\n",
       "  <tbody>\n",
       "    <tr>\n",
       "      <th>0</th>\n",
       "      <td>CFG-7-Sp8</td>\n",
       "      <td>Gal(α-Sp8</td>\n",
       "    </tr>\n",
       "    <tr>\n",
       "      <th>1</th>\n",
       "      <td>CFG-8-Sp8</td>\n",
       "      <td>Glc(α-Sp8</td>\n",
       "    </tr>\n",
       "    <tr>\n",
       "      <th>2</th>\n",
       "      <td>CFG-9-Sp8</td>\n",
       "      <td>Man(α-Sp8</td>\n",
       "    </tr>\n",
       "    <tr>\n",
       "      <th>3</th>\n",
       "      <td>CFG-10-Sp8</td>\n",
       "      <td>GalNAc(α-Sp8</td>\n",
       "    </tr>\n",
       "    <tr>\n",
       "      <th>4</th>\n",
       "      <td>CFG-10-Sp15</td>\n",
       "      <td>GalNAc(α-Sp15</td>\n",
       "    </tr>\n",
       "  </tbody>\n",
       "</table>\n",
       "</div>"
      ],
      "text/plain": [
       "          Name          IUPAC\n",
       "0    CFG-7-Sp8      Gal(α-Sp8\n",
       "1    CFG-8-Sp8      Glc(α-Sp8\n",
       "2    CFG-9-Sp8      Man(α-Sp8\n",
       "3   CFG-10-Sp8   GalNAc(α-Sp8\n",
       "4  CFG-10-Sp15  GalNAc(α-Sp15"
      ]
     },
     "execution_count": 5,
     "metadata": {},
     "output_type": "execute_result"
    }
   ],
   "source": [
    "full_glycan_df = pd.read_csv(\"data/Glycan-Structures.txt\", sep=\"\\t\")\n",
    "print(len(full_glycan_df))\n",
    "full_glycan_df.head()"
   ]
  },
  {
   "cell_type": "code",
   "execution_count": 6,
   "id": "02180156",
   "metadata": {},
   "outputs": [
    {
     "data": {
      "text/html": [
       "<div>\n",
       "<style scoped>\n",
       "    .dataframe tbody tr th:only-of-type {\n",
       "        vertical-align: middle;\n",
       "    }\n",
       "\n",
       "    .dataframe tbody tr th {\n",
       "        vertical-align: top;\n",
       "    }\n",
       "\n",
       "    .dataframe thead th {\n",
       "        text-align: right;\n",
       "    }\n",
       "</style>\n",
       "<table border=\"1\" class=\"dataframe\">\n",
       "  <thead>\n",
       "    <tr style=\"text-align: right;\">\n",
       "      <th></th>\n",
       "      <th>Name</th>\n",
       "      <th>IUPAC</th>\n",
       "      <th>Clean IUPAC</th>\n",
       "    </tr>\n",
       "  </thead>\n",
       "  <tbody>\n",
       "    <tr>\n",
       "      <th>0</th>\n",
       "      <td>CFG-7-Sp8</td>\n",
       "      <td>Gal(α-Sp8</td>\n",
       "      <td>Gal</td>\n",
       "    </tr>\n",
       "    <tr>\n",
       "      <th>1</th>\n",
       "      <td>CFG-8-Sp8</td>\n",
       "      <td>Glc(α-Sp8</td>\n",
       "      <td>Glc</td>\n",
       "    </tr>\n",
       "    <tr>\n",
       "      <th>2</th>\n",
       "      <td>CFG-9-Sp8</td>\n",
       "      <td>Man(α-Sp8</td>\n",
       "      <td>Man</td>\n",
       "    </tr>\n",
       "    <tr>\n",
       "      <th>3</th>\n",
       "      <td>CFG-10-Sp8</td>\n",
       "      <td>GalNAc(α-Sp8</td>\n",
       "      <td>GalNAc</td>\n",
       "    </tr>\n",
       "    <tr>\n",
       "      <th>4</th>\n",
       "      <td>CFG-10-Sp15</td>\n",
       "      <td>GalNAc(α-Sp15</td>\n",
       "      <td>GalNAc</td>\n",
       "    </tr>\n",
       "  </tbody>\n",
       "</table>\n",
       "</div>"
      ],
      "text/plain": [
       "          Name          IUPAC Clean IUPAC\n",
       "0    CFG-7-Sp8      Gal(α-Sp8         Gal\n",
       "1    CFG-8-Sp8      Glc(α-Sp8         Glc\n",
       "2    CFG-9-Sp8      Man(α-Sp8         Man\n",
       "3   CFG-10-Sp8   GalNAc(α-Sp8      GalNAc\n",
       "4  CFG-10-Sp15  GalNAc(α-Sp15      GalNAc"
      ]
     },
     "execution_count": 6,
     "metadata": {},
     "output_type": "execute_result"
    }
   ],
   "source": [
    "full_glycan_df[\"Clean IUPAC\"] = get_clean_iupacs(full_glycan_df[\"IUPAC\"])\n",
    "full_glycan_df.head()"
   ]
  },
  {
   "cell_type": "code",
   "execution_count": 7,
   "id": "7df3078b",
   "metadata": {},
   "outputs": [],
   "source": [
    "def process_iupacs(glycans):\n",
    "    for count, iupac in enumerate(glycans):             \n",
    "        # format sulfate/phosphate groups\n",
    "        while 'O' in iupac:\n",
    "            oxygen_idx = iupac.find('O')\n",
    "            ox_modification_idx = oxygen_idx + 1\n",
    "            ox_modification = iupac[ox_modification_idx]\n",
    "            \n",
    "            end_idx = ox_modification_idx + 1\n",
    "            while(end_idx < len(iupac) and iupac[end_idx].isnumeric()):\n",
    "                end_idx += 1\n",
    "            num_groups = int(iupac[ox_modification_idx + 1: end_idx]) if ox_modification_idx + 1 < end_idx else 1\n",
    "\n",
    "            positions = []\n",
    "            start_idx = oxygen_idx\n",
    "            for i in range(num_groups):\n",
    "                start_idx -= 1\n",
    "                position_end = start_idx\n",
    "                while iupac[start_idx].isnumeric():\n",
    "                    start_idx -= 1\n",
    "                positions.insert(0, iupac[start_idx + 1: position_end + 1])\n",
    "            start_idx += 1\n",
    "            replacement = \"\".join(f\"{position}{ox_modification}\" for position in positions)\n",
    "            iupac = iupac.replace(iupac[start_idx : end_idx], replacement)\n",
    "            \n",
    "        # remove MDPLys spacer\n",
    "        iupac = iupac.replace('MDPLys', '')\n",
    "            \n",
    "        glycans[count] = iupac\n",
    "    return glycans"
   ]
  },
  {
   "cell_type": "code",
   "execution_count": 8,
   "id": "5f627e9f",
   "metadata": {},
   "outputs": [
    {
     "data": {
      "text/html": [
       "<div>\n",
       "<style scoped>\n",
       "    .dataframe tbody tr th:only-of-type {\n",
       "        vertical-align: middle;\n",
       "    }\n",
       "\n",
       "    .dataframe tbody tr th {\n",
       "        vertical-align: top;\n",
       "    }\n",
       "\n",
       "    .dataframe thead th {\n",
       "        text-align: right;\n",
       "    }\n",
       "</style>\n",
       "<table border=\"1\" class=\"dataframe\">\n",
       "  <thead>\n",
       "    <tr style=\"text-align: right;\">\n",
       "      <th></th>\n",
       "      <th>Name</th>\n",
       "      <th>IUPAC</th>\n",
       "      <th>Clean IUPAC</th>\n",
       "    </tr>\n",
       "  </thead>\n",
       "  <tbody>\n",
       "    <tr>\n",
       "      <th>0</th>\n",
       "      <td>CFG-7-Sp8</td>\n",
       "      <td>Gal(α-Sp8</td>\n",
       "      <td>Gal</td>\n",
       "    </tr>\n",
       "    <tr>\n",
       "      <th>1</th>\n",
       "      <td>CFG-8-Sp8</td>\n",
       "      <td>Glc(α-Sp8</td>\n",
       "      <td>Glc</td>\n",
       "    </tr>\n",
       "    <tr>\n",
       "      <th>2</th>\n",
       "      <td>CFG-9-Sp8</td>\n",
       "      <td>Man(α-Sp8</td>\n",
       "      <td>Man</td>\n",
       "    </tr>\n",
       "    <tr>\n",
       "      <th>3</th>\n",
       "      <td>CFG-10-Sp8</td>\n",
       "      <td>GalNAc(α-Sp8</td>\n",
       "      <td>GalNAc</td>\n",
       "    </tr>\n",
       "    <tr>\n",
       "      <th>4</th>\n",
       "      <td>CFG-10-Sp15</td>\n",
       "      <td>GalNAc(α-Sp15</td>\n",
       "      <td>GalNAc</td>\n",
       "    </tr>\n",
       "  </tbody>\n",
       "</table>\n",
       "</div>"
      ],
      "text/plain": [
       "          Name          IUPAC Clean IUPAC\n",
       "0    CFG-7-Sp8      Gal(α-Sp8         Gal\n",
       "1    CFG-8-Sp8      Glc(α-Sp8         Glc\n",
       "2    CFG-9-Sp8      Man(α-Sp8         Man\n",
       "3   CFG-10-Sp8   GalNAc(α-Sp8      GalNAc\n",
       "4  CFG-10-Sp15  GalNAc(α-Sp15      GalNAc"
      ]
     },
     "execution_count": 8,
     "metadata": {},
     "output_type": "execute_result"
    }
   ],
   "source": [
    "full_glycan_df[\"Clean IUPAC\"] = process_iupacs(full_glycan_df[\"Clean IUPAC\"])\n",
    "full_glycan_df.head()"
   ]
  },
  {
   "cell_type": "code",
   "execution_count": 9,
   "id": "e065850f",
   "metadata": {},
   "outputs": [
    {
     "name": "stdout",
     "output_type": "stream",
     "text": [
      "83\n"
     ]
    },
    {
     "data": {
      "text/html": [
       "<div>\n",
       "<style scoped>\n",
       "    .dataframe tbody tr th:only-of-type {\n",
       "        vertical-align: middle;\n",
       "    }\n",
       "\n",
       "    .dataframe tbody tr th {\n",
       "        vertical-align: top;\n",
       "    }\n",
       "\n",
       "    .dataframe thead th {\n",
       "        text-align: right;\n",
       "    }\n",
       "</style>\n",
       "<table border=\"1\" class=\"dataframe\">\n",
       "  <thead>\n",
       "    <tr style=\"text-align: right;\">\n",
       "      <th></th>\n",
       "      <th>Accession</th>\n",
       "      <th>EntryName</th>\n",
       "      <th>ProteinName</th>\n",
       "      <th>Organism</th>\n",
       "      <th>TaxonomyID</th>\n",
       "      <th>Gene</th>\n",
       "      <th>ProteinExistence</th>\n",
       "      <th>SequenceVersion</th>\n",
       "      <th>Sequence</th>\n",
       "    </tr>\n",
       "  </thead>\n",
       "  <tbody>\n",
       "    <tr>\n",
       "      <th>0</th>\n",
       "      <td>A0A089ZWN7</td>\n",
       "      <td>A0A089ZWN7_DATST</td>\n",
       "      <td>Chitin-binding lectin</td>\n",
       "      <td>Datura</td>\n",
       "      <td>4076</td>\n",
       "      <td>dsa-b</td>\n",
       "      <td>2</td>\n",
       "      <td>1</td>\n",
       "      <td>MMRMRHTAISLLALALFFLKVSAKLSLPFYLPANETLGLEVGNTSA...</td>\n",
       "    </tr>\n",
       "    <tr>\n",
       "      <th>1</th>\n",
       "      <td>A0A0M3KL30</td>\n",
       "      <td>A0A0M3KL30_9AGAM</td>\n",
       "      <td>Lectin</td>\n",
       "      <td>Agroathelia</td>\n",
       "      <td>39291</td>\n",
       "      <td>l1</td>\n",
       "      <td>1</td>\n",
       "      <td>1</td>\n",
       "      <td>TYKITVRVYQTNPDAFFHPVEKTVWKYANGGTWTITDDQHVLTMGG...</td>\n",
       "    </tr>\n",
       "    <tr>\n",
       "      <th>2</th>\n",
       "      <td>A0A0R4I963</td>\n",
       "      <td>A0A0R4I963_CORAP</td>\n",
       "      <td>Helix aspersa agglutinin (HAA)</td>\n",
       "      <td>Cornu</td>\n",
       "      <td>6535</td>\n",
       "      <td>None</td>\n",
       "      <td>1</td>\n",
       "      <td>1</td>\n",
       "      <td>ERVQSGKIDCGNDVSWAKVPSDDPGRDNTRELAKNITFASPYCRPP...</td>\n",
       "    </tr>\n",
       "    <tr>\n",
       "      <th>3</th>\n",
       "      <td>A0A1L6CAS4</td>\n",
       "      <td>A0A1L6CAS4_SAUVE</td>\n",
       "      <td>Lectin</td>\n",
       "      <td>Sauromatum</td>\n",
       "      <td>4463</td>\n",
       "      <td>None</td>\n",
       "      <td>2</td>\n",
       "      <td>1</td>\n",
       "      <td>MAKLLLFLLPAILGLVVLRSAAAVGTNYLLSDETLNTDGHLKSGDV...</td>\n",
       "    </tr>\n",
       "    <tr>\n",
       "      <th>4</th>\n",
       "      <td>A0A218PFP3</td>\n",
       "      <td>A0A218PFP3_WISFL</td>\n",
       "      <td>Lectin</td>\n",
       "      <td>Wisteria</td>\n",
       "      <td>3922</td>\n",
       "      <td>WFA</td>\n",
       "      <td>2</td>\n",
       "      <td>1</td>\n",
       "      <td>MASSQTQNSFSVLLSISLTLFLLLLNKVNSKETTSFVFTRFSPDPQ...</td>\n",
       "    </tr>\n",
       "  </tbody>\n",
       "</table>\n",
       "</div>"
      ],
      "text/plain": [
       "    Accession         EntryName                     ProteinName     Organism  \\\n",
       "0  A0A089ZWN7  A0A089ZWN7_DATST           Chitin-binding lectin       Datura   \n",
       "1  A0A0M3KL30  A0A0M3KL30_9AGAM                          Lectin  Agroathelia   \n",
       "2  A0A0R4I963  A0A0R4I963_CORAP  Helix aspersa agglutinin (HAA)        Cornu   \n",
       "3  A0A1L6CAS4  A0A1L6CAS4_SAUVE                          Lectin   Sauromatum   \n",
       "4  A0A218PFP3  A0A218PFP3_WISFL                          Lectin     Wisteria   \n",
       "\n",
       "  TaxonomyID   Gene ProteinExistence SequenceVersion  \\\n",
       "0       4076  dsa-b                2               1   \n",
       "1      39291     l1                1               1   \n",
       "2       6535   None                1               1   \n",
       "3       4463   None                2               1   \n",
       "4       3922    WFA                2               1   \n",
       "\n",
       "                                            Sequence  \n",
       "0  MMRMRHTAISLLALALFFLKVSAKLSLPFYLPANETLGLEVGNTSA...  \n",
       "1  TYKITVRVYQTNPDAFFHPVEKTVWKYANGGTWTITDDQHVLTMGG...  \n",
       "2  ERVQSGKIDCGNDVSWAKVPSDDPGRDNTRELAKNITFASPYCRPP...  \n",
       "3  MAKLLLFLLPAILGLVVLRSAAAVGTNYLLSDETLNTDGHLKSGDV...  \n",
       "4  MASSQTQNSFSVLLSISLTLFLLLLNKVNSKETTSFVFTRFSPDPQ...  "
      ]
     },
     "execution_count": 9,
     "metadata": {},
     "output_type": "execute_result"
    }
   ],
   "source": [
    "# list to collect parsed records\n",
    "records_list = []\n",
    "\n",
    "for record in SeqIO.parse(\"data/lectin_sequences.fasta\", \"fasta\"):\n",
    "    header_parts = record.description.split(\" \")\n",
    "\n",
    "    uniprot_id = header_parts[0].split(\"|\")[1]\n",
    "    entry_name = header_parts[0].split(\"|\")[2]\n",
    "\n",
    "    # Get positions of OS= (organism species start)\n",
    "    try:\n",
    "        os_index = next(i for i, s in enumerate(header_parts) if s.startswith(\"OS=\"))\n",
    "    except StopIteration:\n",
    "        os_index = None\n",
    "\n",
    "    # Protein name is from after entry_name (index 0) up to OS=\n",
    "    protein_name = \" \".join(header_parts[1:os_index])\n",
    "\n",
    "    # Extract fields safely if present\n",
    "    os = next((part.split(\"=\")[1] for part in header_parts if part.startswith(\"OS=\")), None)\n",
    "    ox = next((part.split(\"=\")[1] for part in header_parts if part.startswith(\"OX=\")), None)\n",
    "    gn = next((part.split(\"=\")[1] for part in header_parts if part.startswith(\"GN=\")), None)\n",
    "    pe = next((part.split(\"=\")[1] for part in header_parts if part.startswith(\"PE=\")), None)\n",
    "    sv = next((part.split(\"=\")[1] for part in header_parts if part.startswith(\"SV=\")), None)\n",
    "\n",
    "    sequence = str(record.seq)\n",
    "\n",
    "    records_list.append({\n",
    "        \"Accession\": uniprot_id,\n",
    "        \"EntryName\": entry_name,\n",
    "        \"ProteinName\": protein_name,\n",
    "        \"Organism\": os,\n",
    "        \"TaxonomyID\": ox,\n",
    "        \"Gene\": gn,\n",
    "        \"ProteinExistence\": pe,\n",
    "        \"SequenceVersion\": sv,\n",
    "        \"Sequence\": sequence\n",
    "    })\n",
    "\n",
    "full_protein_fasta = pd.DataFrame(records_list)\n",
    "\n",
    "print(len(full_protein_fasta))\n",
    "full_protein_fasta.head()"
   ]
  },
  {
   "cell_type": "code",
   "execution_count": 10,
   "id": "685e3c80",
   "metadata": {},
   "outputs": [
    {
     "name": "stdout",
     "output_type": "stream",
     "text": [
      "148\n"
     ]
    },
    {
     "data": {
      "text/html": [
       "<div>\n",
       "<style scoped>\n",
       "    .dataframe tbody tr th:only-of-type {\n",
       "        vertical-align: middle;\n",
       "    }\n",
       "\n",
       "    .dataframe tbody tr th {\n",
       "        vertical-align: top;\n",
       "    }\n",
       "\n",
       "    .dataframe thead th {\n",
       "        text-align: right;\n",
       "    }\n",
       "</style>\n",
       "<table border=\"1\" class=\"dataframe\">\n",
       "  <thead>\n",
       "    <tr style=\"text-align: right;\">\n",
       "      <th></th>\n",
       "      <th>Acronym</th>\n",
       "      <th>Name</th>\n",
       "      <th>UniProt ID</th>\n",
       "    </tr>\n",
       "    <tr>\n",
       "      <th>#</th>\n",
       "      <th></th>\n",
       "      <th></th>\n",
       "      <th></th>\n",
       "    </tr>\n",
       "  </thead>\n",
       "  <tbody>\n",
       "    <tr>\n",
       "      <th>1</th>\n",
       "      <td>SNA</td>\n",
       "      <td>Sambucus Nigra Agglutinin</td>\n",
       "      <td>Q41358</td>\n",
       "    </tr>\n",
       "    <tr>\n",
       "      <th>2</th>\n",
       "      <td>Anti-LeC</td>\n",
       "      <td>Anti-H(O) lectin 1</td>\n",
       "      <td>P22972</td>\n",
       "    </tr>\n",
       "    <tr>\n",
       "      <th>3</th>\n",
       "      <td>UEA I</td>\n",
       "      <td>Ulex Europaeus Agglutinin I</td>\n",
       "      <td>P22972</td>\n",
       "    </tr>\n",
       "    <tr>\n",
       "      <th>4</th>\n",
       "      <td>ConA</td>\n",
       "      <td>Concanavalin A</td>\n",
       "      <td>A8WDZ4</td>\n",
       "    </tr>\n",
       "    <tr>\n",
       "      <th>5</th>\n",
       "      <td>ECL</td>\n",
       "      <td>Erythrina cristagalli lectin</td>\n",
       "      <td>Q6YD91</td>\n",
       "    </tr>\n",
       "  </tbody>\n",
       "</table>\n",
       "</div>"
      ],
      "text/plain": [
       "    Acronym                          Name UniProt ID\n",
       "#                                                   \n",
       "1       SNA     Sambucus Nigra Agglutinin     Q41358\n",
       "2  Anti-LeC            Anti-H(O) lectin 1     P22972\n",
       "3     UEA I   Ulex Europaeus Agglutinin I     P22972\n",
       "4      ConA                Concanavalin A     A8WDZ4\n",
       "5       ECL  Erythrina cristagalli lectin     Q6YD91"
      ]
     },
     "execution_count": 10,
     "metadata": {},
     "output_type": "execute_result"
    }
   ],
   "source": [
    "full_protein_df = pd.read_csv(\"data/Lectin-Sequence-Information.tsv\", sep=\"\\t\", index_col=0)\n",
    "full_protein_df = full_protein_df[[\"Protein Name\", \"Full protein name\", \"UniProt ID, etc.\"]]\n",
    "full_protein_df = full_protein_df.rename(columns={\n",
    "    \"UniProt ID, etc.\": \"UniProt ID\", \n",
    "    \"Full protein name\": \"Name\", \n",
    "    \"Protein Name\": \"Acronym\"\n",
    "})\n",
    "print(len(full_protein_df))\n",
    "full_protein_df.head()"
   ]
  },
  {
   "cell_type": "code",
   "execution_count": 11,
   "id": "b12583e5",
   "metadata": {},
   "outputs": [
    {
     "name": "stdout",
     "output_type": "stream",
     "text": [
      "Proteins with sequences: 100 / 148\n",
      "Proteins with sequences (excluding NaN UniProt ID): 100 / 100\n"
     ]
    }
   ],
   "source": [
    "full_protein_df[\"Sequence\"] = pd.NA \n",
    "nan_counter = 0\n",
    "for i, row in full_protein_df.iterrows():\n",
    "    uniprot_id = row[\"UniProt ID\"]\n",
    "    protein_name = row[\"Name\"]\n",
    "    if pd.isna(uniprot_id):\n",
    "        nan_counter += 1\n",
    "        continue\n",
    "    \n",
    "    if \"GenBank\" in uniprot_id:\n",
    "        uniprot_id = uniprot_id.replace('GenBank', '').strip()\n",
    "    if \"/\" in uniprot_id:\n",
    "        uniprot_id = uniprot_id.split('/')[0].strip()\n",
    "    if \"(\" in uniprot_id:\n",
    "        uniprot_id = uniprot_id.split('(')[0].strip()\n",
    "        \n",
    "    matching_rows = full_protein_fasta.loc[full_protein_fasta['Accession'] == uniprot_id].reset_index()\n",
    "    # if uniprot_id doesnt match Acession value, try EntryName value\n",
    "    if len(matching_rows) != 1:\n",
    "        matching_rows = full_protein_fasta.loc[full_protein_fasta['EntryName'] == uniprot_id].reset_index()\n",
    "        \n",
    "    if len(matching_rows) != 1:\n",
    "        print(\"Protein Name: \", protein_name)\n",
    "        print(\"UniProt ID: \", uniprot_id)\n",
    "        print()  \n",
    "    elif len(matching_rows) == 1:\n",
    "        sequence = matching_rows[\"Sequence\"][0]\n",
    "        full_protein_df.at[i, 'Sequence'] = sequence\n",
    "\n",
    "print(f\"Proteins with sequences: {full_protein_df['Sequence'].notna().sum()} / {len(full_protein_df['Sequence'])}\")\n",
    "print(f\"Proteins with sequences (excluding NaN UniProt ID): {full_protein_df['Sequence'].notna().sum()} / {len(full_protein_df['Sequence']) - nan_counter}\")"
   ]
  },
  {
   "cell_type": "code",
   "execution_count": null,
   "id": "16197f47",
   "metadata": {},
   "outputs": [],
   "source": [
    "full_protein_df = full_protein_df.dropna(subset=[\"Sequence\"])\n",
    "print(len(full_protein_df))\n",
    "full_protein_df"
   ]
  },
  {
   "cell_type": "markdown",
   "id": "0e11a748",
   "metadata": {},
   "source": [
    "### Predictions"
   ]
  },
  {
   "cell_type": "code",
   "execution_count": null,
   "id": "f352449b",
   "metadata": {},
   "outputs": [],
   "source": [
    "full_leor_preds_df = get_pred_df(full_protein_df, full_glycan_df)\n",
    "print(len(full_leor_preds_df))\n",
    "full_leor_preds_df.head()"
   ]
  },
  {
   "cell_type": "code",
   "execution_count": null,
   "id": "5a713acd",
   "metadata": {},
   "outputs": [],
   "source": [
    "full_leor_preds_df.to_csv(\"data/full_leor_preds.csv\", index=0)"
   ]
  },
  {
   "cell_type": "markdown",
   "id": "de086c92",
   "metadata": {},
   "source": [
    "## New Lectins"
   ]
  },
  {
   "cell_type": "code",
   "execution_count": 12,
   "id": "f452e118",
   "metadata": {},
   "outputs": [
    {
     "name": "stdout",
     "output_type": "stream",
     "text": [
      "100\n"
     ]
    },
    {
     "data": {
      "text/html": [
       "<div>\n",
       "<style scoped>\n",
       "    .dataframe tbody tr th:only-of-type {\n",
       "        vertical-align: middle;\n",
       "    }\n",
       "\n",
       "    .dataframe tbody tr th {\n",
       "        vertical-align: top;\n",
       "    }\n",
       "\n",
       "    .dataframe thead th {\n",
       "        text-align: right;\n",
       "    }\n",
       "</style>\n",
       "<table border=\"1\" class=\"dataframe\">\n",
       "  <thead>\n",
       "    <tr style=\"text-align: right;\">\n",
       "      <th></th>\n",
       "      <th>Accession</th>\n",
       "      <th>EntryName</th>\n",
       "      <th>ProteinName</th>\n",
       "      <th>Organism</th>\n",
       "      <th>TaxonomyID</th>\n",
       "      <th>Gene</th>\n",
       "      <th>ProteinExistence</th>\n",
       "      <th>SequenceVersion</th>\n",
       "      <th>Sequence</th>\n",
       "    </tr>\n",
       "  </thead>\n",
       "  <tbody>\n",
       "    <tr>\n",
       "      <th>0</th>\n",
       "      <td>A0A089ZWN7</td>\n",
       "      <td>A0A089ZWN7_DATST</td>\n",
       "      <td>Chitin-binding lectin</td>\n",
       "      <td>Datura</td>\n",
       "      <td>4076</td>\n",
       "      <td>dsa-b</td>\n",
       "      <td>2</td>\n",
       "      <td>1</td>\n",
       "      <td>MMRMRHTAISLLALALFFLKVSAKLSLPFYLPANETLGLEVGNTSA...</td>\n",
       "    </tr>\n",
       "    <tr>\n",
       "      <th>1</th>\n",
       "      <td>A0A0R4I963</td>\n",
       "      <td>A0A0R4I963_CORAP</td>\n",
       "      <td>Helix aspersa agglutinin (HAA)</td>\n",
       "      <td>Cornu</td>\n",
       "      <td>6535</td>\n",
       "      <td>None</td>\n",
       "      <td>1</td>\n",
       "      <td>1</td>\n",
       "      <td>ERVQSGKIDCGNDVSWAKVPSDDPGRDNTRELAKNITFASPYCRPP...</td>\n",
       "    </tr>\n",
       "    <tr>\n",
       "      <th>2</th>\n",
       "      <td>A0A1L6CAS4</td>\n",
       "      <td>A0A1L6CAS4_SAUVE</td>\n",
       "      <td>Lectin</td>\n",
       "      <td>Sauromatum</td>\n",
       "      <td>4463</td>\n",
       "      <td>None</td>\n",
       "      <td>2</td>\n",
       "      <td>1</td>\n",
       "      <td>MAKLLLFLLPAILGLVVLRSAAAVGTNYLLSDETLNTDGHLKSGDV...</td>\n",
       "    </tr>\n",
       "    <tr>\n",
       "      <th>3</th>\n",
       "      <td>A0A218PFP3</td>\n",
       "      <td>A0A218PFP3_WISFL</td>\n",
       "      <td>Lectin</td>\n",
       "      <td>Wisteria</td>\n",
       "      <td>3922</td>\n",
       "      <td>WFA</td>\n",
       "      <td>2</td>\n",
       "      <td>1</td>\n",
       "      <td>MASSQTQNSFSVLLSISLTLFLLLLNKVNSKETTSFVFTRFSPDPQ...</td>\n",
       "    </tr>\n",
       "    <tr>\n",
       "      <th>4</th>\n",
       "      <td>A0A220QMD8</td>\n",
       "      <td>A0A220QMD8_9ROSA</td>\n",
       "      <td>Lectin</td>\n",
       "      <td>Artocarpus</td>\n",
       "      <td>1955528</td>\n",
       "      <td>None</td>\n",
       "      <td>2</td>\n",
       "      <td>1</td>\n",
       "      <td>MASKTIIVGPWGGSGGSAWDDGSYTGIREIELSYGDAIGTFNVSYD...</td>\n",
       "    </tr>\n",
       "  </tbody>\n",
       "</table>\n",
       "</div>"
      ],
      "text/plain": [
       "    Accession         EntryName                     ProteinName    Organism  \\\n",
       "0  A0A089ZWN7  A0A089ZWN7_DATST           Chitin-binding lectin      Datura   \n",
       "1  A0A0R4I963  A0A0R4I963_CORAP  Helix aspersa agglutinin (HAA)       Cornu   \n",
       "2  A0A1L6CAS4  A0A1L6CAS4_SAUVE                          Lectin  Sauromatum   \n",
       "3  A0A218PFP3  A0A218PFP3_WISFL                          Lectin    Wisteria   \n",
       "4  A0A220QMD8  A0A220QMD8_9ROSA                          Lectin  Artocarpus   \n",
       "\n",
       "  TaxonomyID   Gene ProteinExistence SequenceVersion  \\\n",
       "0       4076  dsa-b                2               1   \n",
       "1       6535   None                1               1   \n",
       "2       4463   None                2               1   \n",
       "3       3922    WFA                2               1   \n",
       "4    1955528   None                2               1   \n",
       "\n",
       "                                            Sequence  \n",
       "0  MMRMRHTAISLLALALFFLKVSAKLSLPFYLPANETLGLEVGNTSA...  \n",
       "1  ERVQSGKIDCGNDVSWAKVPSDDPGRDNTRELAKNITFASPYCRPP...  \n",
       "2  MAKLLLFLLPAILGLVVLRSAAAVGTNYLLSDETLNTDGHLKSGDV...  \n",
       "3  MASSQTQNSFSVLLSISLTLFLLLLNKVNSKETTSFVFTRFSPDPQ...  \n",
       "4  MASKTIIVGPWGGSGGSAWDDGSYTGIREIELSYGDAIGTFNVSYD...  "
      ]
     },
     "execution_count": 12,
     "metadata": {},
     "output_type": "execute_result"
    }
   ],
   "source": [
    "# list to collect parsed records\n",
    "records_list = []\n",
    "\n",
    "for record in SeqIO.parse(\"data/lectins.fasta\", \"fasta\"):\n",
    "    header_parts = record.description.split(\" \")\n",
    "\n",
    "    uniprot_id = header_parts[0].split(\"|\")[1]\n",
    "    entry_name = header_parts[0].split(\"|\")[2]\n",
    "\n",
    "    # Get positions of OS= (organism species start)\n",
    "    try:\n",
    "        os_index = next(i for i, s in enumerate(header_parts) if s.startswith(\"OS=\"))\n",
    "    except StopIteration:\n",
    "        os_index = None\n",
    "\n",
    "    # Protein name is from after entry_name (index 0) up to OS=\n",
    "    protein_name = \" \".join(header_parts[1:os_index])\n",
    "\n",
    "    # Extract fields safely if present\n",
    "    os = next((part.split(\"=\")[1] for part in header_parts if part.startswith(\"OS=\")), None)\n",
    "    ox = next((part.split(\"=\")[1] for part in header_parts if part.startswith(\"OX=\")), None)\n",
    "    gn = next((part.split(\"=\")[1] for part in header_parts if part.startswith(\"GN=\")), None)\n",
    "    pe = next((part.split(\"=\")[1] for part in header_parts if part.startswith(\"PE=\")), None)\n",
    "    sv = next((part.split(\"=\")[1] for part in header_parts if part.startswith(\"SV=\")), None)\n",
    "\n",
    "    sequence = str(record.seq)\n",
    "\n",
    "    records_list.append({\n",
    "        \"Accession\": uniprot_id,\n",
    "        \"EntryName\": entry_name,\n",
    "        \"ProteinName\": protein_name,\n",
    "        \"Organism\": os,\n",
    "        \"TaxonomyID\": ox,\n",
    "        \"Gene\": gn,\n",
    "        \"ProteinExistence\": pe,\n",
    "        \"SequenceVersion\": sv,\n",
    "        \"Sequence\": sequence\n",
    "    })\n",
    "\n",
    "new_protein_fasta = pd.DataFrame(records_list)\n",
    "\n",
    "print(len(new_protein_fasta))\n",
    "new_protein_fasta.head()"
   ]
  },
  {
   "cell_type": "code",
   "execution_count": 13,
   "id": "56c80c41",
   "metadata": {},
   "outputs": [
    {
     "name": "stdout",
     "output_type": "stream",
     "text": [
      "148\n"
     ]
    },
    {
     "data": {
      "text/html": [
       "<div>\n",
       "<style scoped>\n",
       "    .dataframe tbody tr th:only-of-type {\n",
       "        vertical-align: middle;\n",
       "    }\n",
       "\n",
       "    .dataframe tbody tr th {\n",
       "        vertical-align: top;\n",
       "    }\n",
       "\n",
       "    .dataframe thead th {\n",
       "        text-align: right;\n",
       "    }\n",
       "</style>\n",
       "<table border=\"1\" class=\"dataframe\">\n",
       "  <thead>\n",
       "    <tr style=\"text-align: right;\">\n",
       "      <th></th>\n",
       "      <th>Acronym</th>\n",
       "      <th>Name</th>\n",
       "      <th>UniProt ID</th>\n",
       "    </tr>\n",
       "    <tr>\n",
       "      <th>#</th>\n",
       "      <th></th>\n",
       "      <th></th>\n",
       "      <th></th>\n",
       "    </tr>\n",
       "  </thead>\n",
       "  <tbody>\n",
       "    <tr>\n",
       "      <th>1</th>\n",
       "      <td>SNA</td>\n",
       "      <td>Sambucus Nigra Agglutinin</td>\n",
       "      <td>Q41358</td>\n",
       "    </tr>\n",
       "    <tr>\n",
       "      <th>2</th>\n",
       "      <td>Anti-LeC</td>\n",
       "      <td>Anti-H(O) lectin 1</td>\n",
       "      <td>P22972</td>\n",
       "    </tr>\n",
       "    <tr>\n",
       "      <th>3</th>\n",
       "      <td>UEA I</td>\n",
       "      <td>Ulex Europaeus Agglutinin I</td>\n",
       "      <td>P22972</td>\n",
       "    </tr>\n",
       "    <tr>\n",
       "      <th>4</th>\n",
       "      <td>ConA</td>\n",
       "      <td>Concanavalin A</td>\n",
       "      <td>A8WDZ4</td>\n",
       "    </tr>\n",
       "    <tr>\n",
       "      <th>5</th>\n",
       "      <td>ECL</td>\n",
       "      <td>Erythrina cristagalli lectin</td>\n",
       "      <td>Q6YD91</td>\n",
       "    </tr>\n",
       "  </tbody>\n",
       "</table>\n",
       "</div>"
      ],
      "text/plain": [
       "    Acronym                          Name UniProt ID\n",
       "#                                                   \n",
       "1       SNA     Sambucus Nigra Agglutinin     Q41358\n",
       "2  Anti-LeC            Anti-H(O) lectin 1     P22972\n",
       "3     UEA I   Ulex Europaeus Agglutinin I     P22972\n",
       "4      ConA                Concanavalin A     A8WDZ4\n",
       "5       ECL  Erythrina cristagalli lectin     Q6YD91"
      ]
     },
     "execution_count": 13,
     "metadata": {},
     "output_type": "execute_result"
    }
   ],
   "source": [
    "new_protein_df = pd.read_csv(\"data/Lectin-Sequence-Information.tsv\", sep=\"\\t\", index_col=0)\n",
    "new_protein_df = new_protein_df[[\"Protein Name\", \"Full protein name\", \"UniProt ID, etc.\"]]\n",
    "new_protein_df = new_protein_df.rename(columns={\n",
    "    \"UniProt ID, etc.\": \"UniProt ID\", \n",
    "    \"Full protein name\": \"Name\", \n",
    "    \"Protein Name\": \"Acronym\"\n",
    "})\n",
    "print(len(new_protein_df))\n",
    "new_protein_df.head()"
   ]
  },
  {
   "cell_type": "code",
   "execution_count": 15,
   "id": "601e970b",
   "metadata": {},
   "outputs": [
    {
     "name": "stdout",
     "output_type": "stream",
     "text": [
      "Protein Name:  variant\n",
      "UniProt ID:  3PG0_A\n",
      "\n",
      "Protein Name:  variant\n",
      "UniProt ID:  4FBO_B\n",
      "\n",
      "Protein Name:  variant\n",
      "UniProt ID:  1WBL_D\n",
      "\n",
      "Protein Name:  variant\n",
      "UniProt ID:  A0A5C3KYT6\n",
      "\n",
      "Protein Name:  variant\n",
      "UniProt ID:  P13045\n",
      "\n",
      "Protein Name:  variant\n",
      "UniProt ID:  E0UGD2\n",
      "\n",
      "Protein Name:  variant\n",
      "UniProt ID:  P83422\n",
      "\n",
      "Protein Name:  variant\n",
      "UniProt ID:  Q86TD4\n",
      "\n",
      "Protein Name:  variant\n",
      "UniProt ID:  NM_021155.4\n",
      "\n",
      "Proteins with sequences: 91 / 148\n",
      "Proteins with sequences (excluding NaN UniProt ID): 91 / 100\n"
     ]
    }
   ],
   "source": [
    "new_protein_df[\"Sequence\"] = pd.NA \n",
    "nan_counter = 0\n",
    "for i, row in new_protein_df.iterrows():\n",
    "    uniprot_id = row[\"UniProt ID\"]\n",
    "    if pd.isna(uniprot_id):\n",
    "        nan_counter += 1\n",
    "        continue\n",
    "    \n",
    "    if \"GenBank\" in uniprot_id:\n",
    "        uniprot_id = uniprot_id.replace('GenBank', '').strip()\n",
    "    if \"/\" in uniprot_id:\n",
    "        uniprot_id = uniprot_id.split('/')[0].strip()\n",
    "    if \"(\" in uniprot_id:\n",
    "        uniprot_id = uniprot_id.split('(')[0].strip()\n",
    "        \n",
    "    matching_rows = new_protein_fasta.loc[new_protein_fasta['Accession'] == uniprot_id].reset_index()\n",
    "    # if uniprot_id doesnt match Acession value, try EntryName value\n",
    "    if len(matching_rows) != 1:\n",
    "        matching_rows = new_protein_fasta.loc[new_protein_fasta['EntryName'] == uniprot_id].reset_index()\n",
    "        \n",
    "    if len(matching_rows) != 1:\n",
    "        print(\"Protein Name: \", protein_name)\n",
    "        print(\"UniProt ID: \", uniprot_id)\n",
    "        print()  \n",
    "    elif len(matching_rows) == 1:\n",
    "        sequence = matching_rows[\"Sequence\"][0]\n",
    "        new_protein_df.at[i, 'Sequence'] = sequence\n",
    "\n",
    "print(f\"Proteins with sequences: {new_protein_df['Sequence'].notna().sum()} / {len(new_protein_df['Sequence'])}\")\n",
    "print(f\"Proteins with sequences (excluding NaN UniProt ID): {new_protein_df['Sequence'].notna().sum()} / {len(new_protein_df['Sequence']) - nan_counter}\")"
   ]
  },
  {
   "cell_type": "code",
   "execution_count": null,
   "id": "bab8e5b0",
   "metadata": {},
   "outputs": [],
   "source": [
    "new_protein_df = new_protein_df.dropna(subset=[\"Sequence\"])\n",
    "print(len(new_protein_df))\n",
    "new_protein_df"
   ]
  },
  {
   "cell_type": "code",
   "execution_count": null,
   "id": "074c0fa0",
   "metadata": {},
   "outputs": [],
   "source": [
    "new_leor_preds_df = get_pred_df(new_protein_df, full_glycan_df)\n",
    "print(len(new_leor_preds_df))\n",
    "new_leor_preds_df.head()"
   ]
  },
  {
   "cell_type": "code",
   "execution_count": null,
   "id": "5b8752ee",
   "metadata": {},
   "outputs": [],
   "source": [
    "new_leor_preds_df.to_csv(\"data/new_leor_preds.csv\", index=0)"
   ]
  }
 ],
 "metadata": {
  "kernelspec": {
   "display_name": "glycan-summer-env",
   "language": "python",
   "name": "python3"
  },
  "language_info": {
   "codemirror_mode": {
    "name": "ipython",
    "version": 3
   },
   "file_extension": ".py",
   "mimetype": "text/x-python",
   "name": "python",
   "nbconvert_exporter": "python",
   "pygments_lexer": "ipython3",
   "version": "3.11.13"
  }
 },
 "nbformat": 4,
 "nbformat_minor": 5
}
